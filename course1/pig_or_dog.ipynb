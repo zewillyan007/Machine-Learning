{
 "cells": [
  {
   "cell_type": "code",
   "execution_count": 5,
   "metadata": {},
   "outputs": [],
   "source": [
    "# features (1 sim, 0 não)\n",
    "# pelo longo? \n",
    "# perna curta?\n",
    "# faz auau?\n",
    "pig1 = [0, 1, 0]\n",
    "pig2 = [0, 1, 1]\n",
    "pig3 = [1, 1, 0]\n",
    "\n",
    "dog1 = [0, 1, 1]\n",
    "dog2 = [1, 0, 1]\n",
    "dog3 = [1, 1, 1]\n",
    "\n",
    "# 1 => pig, 0 => dog\n",
    "datas = [pig1, pig2, pig3, dog1, dog2, dog3]\n",
    "classes = [1,1,1,0,0,0]\n"
   ]
  },
  {
   "cell_type": "code",
   "execution_count": 6,
   "metadata": {},
   "outputs": [
    {
     "data": {
      "text/plain": [
       "LinearSVC()"
      ]
     },
     "execution_count": 6,
     "metadata": {},
     "output_type": "execute_result"
    }
   ],
   "source": [
    "from sklearn.svm import LinearSVC\n",
    "\n",
    "model = LinearSVC()\n",
    "model.fit(datas, classes)"
   ]
  },
  {
   "cell_type": "code",
   "execution_count": 7,
   "metadata": {},
   "outputs": [
    {
     "data": {
      "text/plain": [
       "array([0])"
      ]
     },
     "execution_count": 7,
     "metadata": {},
     "output_type": "execute_result"
    }
   ],
   "source": [
    "mysteryAnimal = [1,1,1]\n",
    "model.predict([mysteryAnimal])"
   ]
  },
  {
   "cell_type": "code",
   "execution_count": 8,
   "metadata": {},
   "outputs": [],
   "source": [
    "mystery1 = [1,1,1]\n",
    "mystery2 = [1,1,0]\n",
    "mystery3 = [0,1,1]\n",
    "\n",
    "testes = [mystery1, mystery2, mystery3]\n",
    "predictions = model.predict(testes)"
   ]
  },
  {
   "cell_type": "code",
   "execution_count": 9,
   "metadata": {},
   "outputs": [],
   "source": [
    "testClasses = [0, 1, 1]"
   ]
  },
  {
   "cell_type": "code",
   "execution_count": 10,
   "metadata": {},
   "outputs": [
    {
     "data": {
      "text/plain": [
       "2"
      ]
     },
     "execution_count": 10,
     "metadata": {},
     "output_type": "execute_result"
    }
   ],
   "source": [
    "(predictions == testClasses).sum()"
   ]
  },
  {
   "cell_type": "code",
   "execution_count": 11,
   "metadata": {},
   "outputs": [
    {
     "name": "stdout",
     "output_type": "stream",
     "text": [
      "Taxa de acerto  66.66666666666666\n"
     ]
    }
   ],
   "source": [
    "correct = (predictions == testClasses).sum()\n",
    "total = len(testes)\n",
    "hitRate = correct/total\n",
    "print(\"Taxa de acerto \", hitRate *100)"
   ]
  },
  {
   "cell_type": "code",
   "execution_count": 12,
   "metadata": {},
   "outputs": [
    {
     "name": "stdout",
     "output_type": "stream",
     "text": [
      "Taxa de acerto 66.66666666666666\n"
     ]
    }
   ],
   "source": [
    "from sklearn.metrics import accuracy_score\n",
    "\n",
    "hitRate = accuracy_score(testClasses, predictions)\n",
    "print(\"Taxa de acerto\", hitRate * 100)"
   ]
  },
  {
   "cell_type": "code",
   "execution_count": null,
   "metadata": {},
   "outputs": [],
   "source": []
  }
 ],
 "metadata": {
  "kernelspec": {
   "display_name": "base",
   "language": "python",
   "name": "python3"
  },
  "language_info": {
   "codemirror_mode": {
    "name": "ipython",
    "version": 3
   },
   "file_extension": ".py",
   "mimetype": "text/x-python",
   "name": "python",
   "nbconvert_exporter": "python",
   "pygments_lexer": "ipython3",
   "version": "3.9.13"
  },
  "orig_nbformat": 4,
  "vscode": {
   "interpreter": {
    "hash": "768b7615bf7801b30195ff2ca2a655e39c9c75acba6848cd1644f3351b9a73c9"
   }
  }
 },
 "nbformat": 4,
 "nbformat_minor": 2
}
